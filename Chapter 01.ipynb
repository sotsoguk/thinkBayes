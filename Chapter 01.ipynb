{
 "cells": [
  {
   "cell_type": "markdown",
   "id": "f2daaff9",
   "metadata": {},
   "source": [
    "# 01. Probability\n"
   ]
  },
  {
   "cell_type": "code",
   "execution_count": 1,
   "id": "53b61737",
   "metadata": {},
   "outputs": [
    {
     "data": {
      "text/html": [
       "<div>\n",
       "<style scoped>\n",
       "    .dataframe tbody tr th:only-of-type {\n",
       "        vertical-align: middle;\n",
       "    }\n",
       "\n",
       "    .dataframe tbody tr th {\n",
       "        vertical-align: top;\n",
       "    }\n",
       "\n",
       "    .dataframe thead th {\n",
       "        text-align: right;\n",
       "    }\n",
       "</style>\n",
       "<table border=\"1\" class=\"dataframe\">\n",
       "  <thead>\n",
       "    <tr style=\"text-align: right;\">\n",
       "      <th></th>\n",
       "      <th>year</th>\n",
       "      <th>age</th>\n",
       "      <th>sex</th>\n",
       "      <th>polviews</th>\n",
       "      <th>partyid</th>\n",
       "      <th>indus10</th>\n",
       "    </tr>\n",
       "    <tr>\n",
       "      <th>caseid</th>\n",
       "      <th></th>\n",
       "      <th></th>\n",
       "      <th></th>\n",
       "      <th></th>\n",
       "      <th></th>\n",
       "      <th></th>\n",
       "    </tr>\n",
       "  </thead>\n",
       "  <tbody>\n",
       "    <tr>\n",
       "      <th>1</th>\n",
       "      <td>1974</td>\n",
       "      <td>21.0</td>\n",
       "      <td>1</td>\n",
       "      <td>4.0</td>\n",
       "      <td>2.0</td>\n",
       "      <td>4970.0</td>\n",
       "    </tr>\n",
       "    <tr>\n",
       "      <th>2</th>\n",
       "      <td>1974</td>\n",
       "      <td>41.0</td>\n",
       "      <td>1</td>\n",
       "      <td>5.0</td>\n",
       "      <td>0.0</td>\n",
       "      <td>9160.0</td>\n",
       "    </tr>\n",
       "    <tr>\n",
       "      <th>5</th>\n",
       "      <td>1974</td>\n",
       "      <td>58.0</td>\n",
       "      <td>2</td>\n",
       "      <td>6.0</td>\n",
       "      <td>1.0</td>\n",
       "      <td>2670.0</td>\n",
       "    </tr>\n",
       "    <tr>\n",
       "      <th>6</th>\n",
       "      <td>1974</td>\n",
       "      <td>30.0</td>\n",
       "      <td>1</td>\n",
       "      <td>5.0</td>\n",
       "      <td>4.0</td>\n",
       "      <td>6870.0</td>\n",
       "    </tr>\n",
       "    <tr>\n",
       "      <th>7</th>\n",
       "      <td>1974</td>\n",
       "      <td>48.0</td>\n",
       "      <td>1</td>\n",
       "      <td>5.0</td>\n",
       "      <td>4.0</td>\n",
       "      <td>7860.0</td>\n",
       "    </tr>\n",
       "  </tbody>\n",
       "</table>\n",
       "</div>"
      ],
      "text/plain": [
       "        year   age  sex  polviews  partyid  indus10\n",
       "caseid                                             \n",
       "1       1974  21.0    1       4.0      2.0   4970.0\n",
       "2       1974  41.0    1       5.0      0.0   9160.0\n",
       "5       1974  58.0    2       6.0      1.0   2670.0\n",
       "6       1974  30.0    1       5.0      4.0   6870.0\n",
       "7       1974  48.0    1       5.0      4.0   7860.0"
      ]
     },
     "execution_count": 1,
     "metadata": {},
     "output_type": "execute_result"
    }
   ],
   "source": [
    "import pandas as pd\n",
    "gss = pd.read_csv(\"gss_bayes.csv\", index_col=0)\n",
    "gss.head()"
   ]
  },
  {
   "cell_type": "code",
   "execution_count": 2,
   "id": "f842f072",
   "metadata": {},
   "outputs": [],
   "source": [
    "# get the bankers (code = 6870)\n",
    "banker = (gss[\"indus10\"] == 6870)"
   ]
  },
  {
   "cell_type": "code",
   "execution_count": 4,
   "id": "97c6bf4a",
   "metadata": {},
   "outputs": [
    {
     "data": {
      "text/plain": [
       "728"
      ]
     },
     "execution_count": 4,
     "metadata": {},
     "output_type": "execute_result"
    }
   ],
   "source": [
    "# num of bankers\n",
    "banker.sum()"
   ]
  },
  {
   "cell_type": "code",
   "execution_count": 9,
   "id": "25c44e29",
   "metadata": {},
   "outputs": [
    {
     "data": {
      "text/plain": [
       "0.014769730168391155"
      ]
     },
     "execution_count": 9,
     "metadata": {},
     "output_type": "execute_result"
    }
   ],
   "source": [
    "# fraction of bankers\n",
    "banker.sum() / gss.shape[0]\n",
    "# or\n",
    "banker.mean() # since true sums to 1"
   ]
  },
  {
   "cell_type": "code",
   "execution_count": 11,
   "id": "017c52e5",
   "metadata": {},
   "outputs": [],
   "source": [
    "# define a function to compute this prob\n",
    "def prob(A):\n",
    "    \"\"\"\n",
    "    Computes the probabilty of a proposition A\n",
    "    \"\"\"\n",
    "    return A.mean()"
   ]
  },
  {
   "cell_type": "code",
   "execution_count": 14,
   "id": "fdb08e4e",
   "metadata": {},
   "outputs": [
    {
     "data": {
      "text/plain": [
       "0.5378575776019476"
      ]
     },
     "execution_count": 14,
     "metadata": {},
     "output_type": "execute_result"
    }
   ],
   "source": [
    "female = (gss[\"sex\"] == 2)\n",
    "prob(female)"
   ]
  },
  {
   "cell_type": "code",
   "execution_count": 16,
   "id": "ddb6f471",
   "metadata": {},
   "outputs": [
    {
     "data": {
      "text/plain": [
       "array([4., 5., 6., 2., 7., 3., 1.])"
      ]
     },
     "execution_count": 16,
     "metadata": {},
     "output_type": "execute_result"
    }
   ],
   "source": [
    "gss[\"polviews\"].unique()\n",
    "# 1 Extremely liberal\n",
    "# 2 Liberal\n",
    "# 3 Slightly liberal\n",
    "# 4 Moderate\n",
    "# 5 Slightly conservative\n",
    "# 6 Conservative\n",
    "# 7 Extremely conservative\n"
   ]
  },
  {
   "cell_type": "code",
   "execution_count": 19,
   "id": "31eec16d",
   "metadata": {},
   "outputs": [],
   "source": [
    "liberal = (gss[\"polviews\"] <= 3)"
   ]
  },
  {
   "cell_type": "code",
   "execution_count": 20,
   "id": "9b30c495",
   "metadata": {},
   "outputs": [
    {
     "data": {
      "text/plain": [
       "0.27374721038750255"
      ]
     },
     "execution_count": 20,
     "metadata": {},
     "output_type": "execute_result"
    }
   ],
   "source": [
    "prob(liberal)"
   ]
  },
  {
   "cell_type": "code",
   "execution_count": 21,
   "id": "741de032",
   "metadata": {},
   "outputs": [],
   "source": [
    "democrat = (gss[\"partyid\"] <= 1)"
   ]
  },
  {
   "cell_type": "code",
   "execution_count": 22,
   "id": "0ce179fb",
   "metadata": {},
   "outputs": [
    {
     "data": {
      "text/plain": [
       "0.3662609048488537"
      ]
     },
     "execution_count": 22,
     "metadata": {},
     "output_type": "execute_result"
    }
   ],
   "source": [
    "prob(democrat)"
   ]
  },
  {
   "cell_type": "markdown",
   "id": "c21e4ed1",
   "metadata": {},
   "source": [
    "## Conjunction\n",
    "For bool `series` we can use the logical `&` to conjunct."
   ]
  },
  {
   "cell_type": "code",
   "execution_count": 23,
   "id": "8968893c",
   "metadata": {},
   "outputs": [
    {
     "data": {
      "text/plain": [
       "0.011381618989653074"
      ]
     },
     "execution_count": 23,
     "metadata": {},
     "output_type": "execute_result"
    }
   ],
   "source": [
    "prob(female & banker)"
   ]
  },
  {
   "cell_type": "code",
   "execution_count": 24,
   "id": "6d9497d2",
   "metadata": {},
   "outputs": [
    {
     "data": {
      "text/plain": [
       "0.02116102749801969"
      ]
     },
     "execution_count": 24,
     "metadata": {},
     "output_type": "execute_result"
    }
   ],
   "source": [
    "prob(banker[female])"
   ]
  },
  {
   "cell_type": "code",
   "execution_count": 25,
   "id": "db1ea1c2",
   "metadata": {},
   "outputs": [
    {
     "data": {
      "text/plain": [
       "0.7706043956043956"
      ]
     },
     "execution_count": 25,
     "metadata": {},
     "output_type": "execute_result"
    }
   ],
   "source": [
    "prob(female[banker])"
   ]
  },
  {
   "cell_type": "markdown",
   "id": "0ee4c51a",
   "metadata": {},
   "source": [
    "## Conditional Probability"
   ]
  },
  {
   "cell_type": "code",
   "execution_count": 26,
   "id": "c4443f22",
   "metadata": {},
   "outputs": [],
   "source": [
    "def conditional(proposition, given):\n",
    "    return prob(proposition[given])"
   ]
  },
  {
   "cell_type": "code",
   "execution_count": 27,
   "id": "d9da2fe4",
   "metadata": {},
   "outputs": [
    {
     "data": {
      "text/plain": [
       "0.27581004111500884"
      ]
     },
     "execution_count": 27,
     "metadata": {},
     "output_type": "execute_result"
    }
   ],
   "source": [
    "conditional(liberal, given = female)"
   ]
  },
  {
   "cell_type": "code",
   "execution_count": 28,
   "id": "85a15735",
   "metadata": {},
   "outputs": [
    {
     "data": {
      "text/plain": [
       "0.5419106203216483"
      ]
     },
     "execution_count": 28,
     "metadata": {},
     "output_type": "execute_result"
    }
   ],
   "source": [
    "conditional(female, given=liberal)"
   ]
  },
  {
   "cell_type": "code",
   "execution_count": 29,
   "id": "4120c17a",
   "metadata": {},
   "outputs": [],
   "source": [
    "male = (gss[\"sex\"] == 1)"
   ]
  },
  {
   "cell_type": "code",
   "execution_count": 31,
   "id": "24cc6e90",
   "metadata": {},
   "outputs": [
    {
     "data": {
      "text/plain": [
       "0.014769730168391155"
      ]
     },
     "execution_count": 31,
     "metadata": {},
     "output_type": "execute_result"
    }
   ],
   "source": [
    "# Total probability of banker\n",
    "prob(male & banker) + prob(female & banker)"
   ]
  },
  {
   "cell_type": "code",
   "execution_count": 33,
   "id": "97f7bde6",
   "metadata": {},
   "outputs": [
    {
     "data": {
      "text/plain": [
       "0.014769730168391153"
      ]
     },
     "execution_count": 33,
     "metadata": {},
     "output_type": "execute_result"
    }
   ],
   "source": [
    "# or:\n",
    "prob(male)*conditional(banker,given= male) + prob(female) * conditional(banker, given=female)"
   ]
  },
  {
   "cell_type": "code",
   "execution_count": 34,
   "id": "a27a5a44",
   "metadata": {},
   "outputs": [],
   "source": [
    "# using \"polyviews\"\n",
    "B = gss[\"polviews\"]"
   ]
  },
  {
   "cell_type": "code",
   "execution_count": 35,
   "id": "df0c8ef2",
   "metadata": {},
   "outputs": [
    {
     "data": {
      "text/plain": [
       "1.0     1442\n",
       "2.0     5808\n",
       "3.0     6243\n",
       "4.0    18943\n",
       "5.0     7940\n",
       "6.0     7319\n",
       "7.0     1595\n",
       "Name: polviews, dtype: int64"
      ]
     },
     "execution_count": 35,
     "metadata": {},
     "output_type": "execute_result"
    }
   ],
   "source": [
    "B.value_counts().sort_index()"
   ]
  },
  {
   "cell_type": "code",
   "execution_count": 36,
   "id": "c61069d7",
   "metadata": {},
   "outputs": [
    {
     "data": {
      "text/plain": [
       "0.014769730168391157"
      ]
     },
     "execution_count": 36,
     "metadata": {},
     "output_type": "execute_result"
    }
   ],
   "source": [
    "# banker\n",
    "sum(prob(B==i) * conditional(banker, B==i)\n",
    "   for i in range(1,8))"
   ]
  },
  {
   "cell_type": "markdown",
   "id": "b1f0d24a",
   "metadata": {},
   "source": [
    "# Exercises\n",
    "\n",
    "## Ex 1-1\n",
    "\n",
    "Let’s use the tools in this chapter to solve a variation of the Linda problem.\n",
    "Linda is 31 years old, single, outspoken, and very bright. She majored in philosophy.\n",
    "As a student, she was deeply concerned with issues of discrimination and social justice,\n",
    "and also participated in anti-nuclear demonstrations. Which is more probable?\n",
    "1. Linda is a banker.\n",
    "2. Linda is a banker and considers herself a liberal Democrat.\n",
    "\n",
    "To answer this question, compute\n"
   ]
  },
  {
   "cell_type": "code",
   "execution_count": 45,
   "id": "9720ef06",
   "metadata": {},
   "outputs": [
    {
     "name": "stdout",
     "output_type": "stream",
     "text": [
      "0.011381618989653074\n"
     ]
    }
   ],
   "source": [
    "# The probability that Linda is a female banker,\n",
    "p1 = prob(female & banker)\n",
    "print(p1)"
   ]
  },
  {
   "cell_type": "code",
   "execution_count": 46,
   "id": "d60e786f",
   "metadata": {},
   "outputs": [
    {
     "name": "stdout",
     "output_type": "stream",
     "text": [
      "0.002556299452221546\n"
     ]
    }
   ],
   "source": [
    "# The probability that Linda is a liberal female banker, and\n",
    "p2 = prob(liberal & female & banker)\n",
    "print(p2)"
   ]
  },
  {
   "cell_type": "code",
   "execution_count": 47,
   "id": "de51922c",
   "metadata": {},
   "outputs": [
    {
     "name": "stdout",
     "output_type": "stream",
     "text": [
      "0.0012375735443294787\n"
     ]
    }
   ],
   "source": [
    "#+ The probability that Linda is a liberal female banker and a Democrat.\n",
    "p3 = prob(liberal & female & banker & democrat)\n",
    "print(p3)"
   ]
  },
  {
   "cell_type": "markdown",
   "id": "9aab91a7",
   "metadata": {},
   "source": [
    "## Ex 1-2\n",
    "\n",
    "Use `conditional` to compute the following probabilities:\n",
    "\n",
    "• What is the probability that a respondent is liberal, given that they are a\n",
    "Democrat?"
   ]
  },
  {
   "cell_type": "code",
   "execution_count": 48,
   "id": "16f97505",
   "metadata": {},
   "outputs": [
    {
     "data": {
      "text/plain": [
       "0.3891320002215698"
      ]
     },
     "execution_count": 48,
     "metadata": {},
     "output_type": "execute_result"
    }
   ],
   "source": [
    "conditional(liberal, given=democrat)"
   ]
  },
  {
   "cell_type": "markdown",
   "id": "646ac9e9",
   "metadata": {},
   "source": [
    "• What is the probability that a respondent is a Democrat, given that they are\n",
    "liberal?"
   ]
  },
  {
   "cell_type": "code",
   "execution_count": 49,
   "id": "f1543b40",
   "metadata": {},
   "outputs": [
    {
     "data": {
      "text/plain": [
       "0.5206403320240125"
      ]
     },
     "execution_count": 49,
     "metadata": {},
     "output_type": "execute_result"
    }
   ],
   "source": [
    "conditional(democrat, given=liberal)"
   ]
  },
  {
   "cell_type": "markdown",
   "id": "1a495791",
   "metadata": {},
   "source": [
    "## Ex 1-3"
   ]
  },
  {
   "cell_type": "code",
   "execution_count": 50,
   "id": "5ab9292c",
   "metadata": {},
   "outputs": [
    {
     "data": {
      "text/plain": [
       "0.19435991073240008"
      ]
     },
     "execution_count": 50,
     "metadata": {},
     "output_type": "execute_result"
    }
   ],
   "source": [
    "young = (gss[\"age\"] < 30)\n",
    "prob(young)"
   ]
  },
  {
   "cell_type": "code",
   "execution_count": 51,
   "id": "310d097f",
   "metadata": {},
   "outputs": [
    {
     "data": {
      "text/plain": [
       "0.17328058429701765"
      ]
     },
     "execution_count": 51,
     "metadata": {},
     "output_type": "execute_result"
    }
   ],
   "source": [
    "old = (gss[\"age\"]>= 65)\n",
    "prob(old)"
   ]
  },
  {
   "cell_type": "code",
   "execution_count": 53,
   "id": "812b4f0f",
   "metadata": {},
   "outputs": [
    {
     "data": {
      "text/plain": [
       "0.3419354838709677"
      ]
     },
     "execution_count": 53,
     "metadata": {},
     "output_type": "execute_result"
    }
   ],
   "source": [
    "conservative = (gss[\"polviews\"] >= 5)\n",
    "prob(conservative)"
   ]
  },
  {
   "cell_type": "code",
   "execution_count": 54,
   "id": "6a324c3e",
   "metadata": {},
   "outputs": [
    {
     "data": {
      "text/plain": [
       "0.06579427875836884"
      ]
     },
     "execution_count": 54,
     "metadata": {},
     "output_type": "execute_result"
    }
   ],
   "source": [
    "# What is the probability that a randomly chosen respondent is a young liberal?\n",
    "prob(young & liberal)"
   ]
  },
  {
   "cell_type": "code",
   "execution_count": 55,
   "id": "b4d0a858",
   "metadata": {},
   "outputs": [
    {
     "data": {
      "text/plain": [
       "0.338517745302714"
      ]
     },
     "execution_count": 55,
     "metadata": {},
     "output_type": "execute_result"
    }
   ],
   "source": [
    "# What is the probability that a young person is liberal?\n",
    "conditional(liberal, given=young)"
   ]
  },
  {
   "cell_type": "code",
   "execution_count": 56,
   "id": "4ca844ee",
   "metadata": {},
   "outputs": [
    {
     "data": {
      "text/plain": [
       "0.06701156421180766"
      ]
     },
     "execution_count": 56,
     "metadata": {},
     "output_type": "execute_result"
    }
   ],
   "source": [
    "# What fraction of respondents are old conservatives?\n",
    "prob(old & conservative)"
   ]
  },
  {
   "cell_type": "code",
   "execution_count": 57,
   "id": "eee225c7",
   "metadata": {},
   "outputs": [
    {
     "data": {
      "text/plain": [
       "0.19597721609113564"
      ]
     },
     "execution_count": 57,
     "metadata": {},
     "output_type": "execute_result"
    }
   ],
   "source": [
    "conditional(old, given=conservative)"
   ]
  },
  {
   "cell_type": "code",
   "execution_count": null,
   "id": "6c108f25",
   "metadata": {},
   "outputs": [],
   "source": []
  }
 ],
 "metadata": {
  "kernelspec": {
   "display_name": "Python 3 (ipykernel)",
   "language": "python",
   "name": "python3"
  },
  "language_info": {
   "codemirror_mode": {
    "name": "ipython",
    "version": 3
   },
   "file_extension": ".py",
   "mimetype": "text/x-python",
   "name": "python",
   "nbconvert_exporter": "python",
   "pygments_lexer": "ipython3",
   "version": "3.9.7"
  }
 },
 "nbformat": 4,
 "nbformat_minor": 5
}
