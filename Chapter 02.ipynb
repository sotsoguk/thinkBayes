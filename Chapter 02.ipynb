{
 "cells": [
  {
   "cell_type": "markdown",
   "id": "7a869c22",
   "metadata": {},
   "source": [
    "# Chapter 02 - Bayes's Theorem\n",
    "\n",
    "\n",
    "$$P(A|B) = \\frac{P(A)P(B|A)}{P(B)}$$\n",
    "\n",
    "## Cookie Problem\n",
    "2 Bowls\n",
    "- Bowl 1: 30 vanilla & 10 chocolate\n",
    "- Bowl 2: 20 vanilla & 20 chocolate\n",
    "\n",
    "You choose blindly one bowl and draw a vanilla cookie. What is p that you had chosen Bowl 1, i.e. $P(B_1|B)$.\n",
    "\n",
    "$$ P(B_1|V) = \\frac{P(V|B1_1)P(B1)}{P(V)}$$.\n",
    "- $P(B_1) = 0.5$,\n",
    "- $P(V|B_1) = 0.75$,\n",
    "- $P(V) = P(B_1)*P(V|B_1) + P(B_2)*P(V|B_2) = 0.5*0.75 + 0.5*0.5 = 0.625= 5/8$\n",
    "\n",
    "=> $P(B_1|V) = 3/5$"
   ]
  },
  {
   "cell_type": "markdown",
   "id": "3871f4ec",
   "metadata": {},
   "source": [
    "## Bayes Table\n"
   ]
  },
  {
   "cell_type": "code",
   "execution_count": 1,
   "id": "75f89173",
   "metadata": {},
   "outputs": [],
   "source": [
    "import pandas as pd"
   ]
  },
  {
   "cell_type": "code",
   "execution_count": 2,
   "id": "4d7693ac",
   "metadata": {},
   "outputs": [],
   "source": [
    "table = pd.DataFrame(index=[\"Bowl 1\", \"Bowl 2\"])"
   ]
  },
  {
   "cell_type": "code",
   "execution_count": 12,
   "id": "6bbaab17",
   "metadata": {},
   "outputs": [],
   "source": [
    "table[\"prior\"] = (1/2,1/2)"
   ]
  },
  {
   "cell_type": "code",
   "execution_count": 13,
   "id": "e27bc671",
   "metadata": {},
   "outputs": [],
   "source": [
    "table[\"likelihood\"] = (0.75, 0.5)"
   ]
  },
  {
   "cell_type": "code",
   "execution_count": 14,
   "id": "0ca222f2",
   "metadata": {},
   "outputs": [
    {
     "data": {
      "text/html": [
       "<div>\n",
       "<style scoped>\n",
       "    .dataframe tbody tr th:only-of-type {\n",
       "        vertical-align: middle;\n",
       "    }\n",
       "\n",
       "    .dataframe tbody tr th {\n",
       "        vertical-align: top;\n",
       "    }\n",
       "\n",
       "    .dataframe thead th {\n",
       "        text-align: right;\n",
       "    }\n",
       "</style>\n",
       "<table border=\"1\" class=\"dataframe\">\n",
       "  <thead>\n",
       "    <tr style=\"text-align: right;\">\n",
       "      <th></th>\n",
       "      <th>prior</th>\n",
       "      <th>likelihood</th>\n",
       "      <th>unnorm</th>\n",
       "    </tr>\n",
       "  </thead>\n",
       "  <tbody>\n",
       "    <tr>\n",
       "      <th>Bowl 1</th>\n",
       "      <td>0.5</td>\n",
       "      <td>0.75</td>\n",
       "      <td>0.375</td>\n",
       "    </tr>\n",
       "    <tr>\n",
       "      <th>Bowl 2</th>\n",
       "      <td>0.5</td>\n",
       "      <td>0.50</td>\n",
       "      <td>0.250</td>\n",
       "    </tr>\n",
       "  </tbody>\n",
       "</table>\n",
       "</div>"
      ],
      "text/plain": [
       "        prior  likelihood  unnorm\n",
       "Bowl 1    0.5        0.75   0.375\n",
       "Bowl 2    0.5        0.50   0.250"
      ]
     },
     "execution_count": 14,
     "metadata": {},
     "output_type": "execute_result"
    }
   ],
   "source": [
    "table"
   ]
  },
  {
   "cell_type": "code",
   "execution_count": 15,
   "id": "e79db21b",
   "metadata": {},
   "outputs": [],
   "source": [
    "table[\"unnorm\"] = table[\"prior\"] * table[\"likelihood\"]"
   ]
  },
  {
   "cell_type": "code",
   "execution_count": 16,
   "id": "26909151",
   "metadata": {},
   "outputs": [
    {
     "data": {
      "text/html": [
       "<div>\n",
       "<style scoped>\n",
       "    .dataframe tbody tr th:only-of-type {\n",
       "        vertical-align: middle;\n",
       "    }\n",
       "\n",
       "    .dataframe tbody tr th {\n",
       "        vertical-align: top;\n",
       "    }\n",
       "\n",
       "    .dataframe thead th {\n",
       "        text-align: right;\n",
       "    }\n",
       "</style>\n",
       "<table border=\"1\" class=\"dataframe\">\n",
       "  <thead>\n",
       "    <tr style=\"text-align: right;\">\n",
       "      <th></th>\n",
       "      <th>prior</th>\n",
       "      <th>likelihood</th>\n",
       "      <th>unnorm</th>\n",
       "    </tr>\n",
       "  </thead>\n",
       "  <tbody>\n",
       "    <tr>\n",
       "      <th>Bowl 1</th>\n",
       "      <td>0.5</td>\n",
       "      <td>0.75</td>\n",
       "      <td>0.375</td>\n",
       "    </tr>\n",
       "    <tr>\n",
       "      <th>Bowl 2</th>\n",
       "      <td>0.5</td>\n",
       "      <td>0.50</td>\n",
       "      <td>0.250</td>\n",
       "    </tr>\n",
       "  </tbody>\n",
       "</table>\n",
       "</div>"
      ],
      "text/plain": [
       "        prior  likelihood  unnorm\n",
       "Bowl 1    0.5        0.75   0.375\n",
       "Bowl 2    0.5        0.50   0.250"
      ]
     },
     "execution_count": 16,
     "metadata": {},
     "output_type": "execute_result"
    }
   ],
   "source": [
    "table"
   ]
  },
  {
   "cell_type": "code",
   "execution_count": 17,
   "id": "148b47ed",
   "metadata": {},
   "outputs": [],
   "source": [
    "# divide by P(V) = Normalize\n",
    "prob_data = table[\"unnorm\"].sum()"
   ]
  },
  {
   "cell_type": "code",
   "execution_count": 18,
   "id": "9c407949",
   "metadata": {},
   "outputs": [],
   "source": [
    "table[\"posterior\"] = table[\"unnorm\"] / prob_data"
   ]
  },
  {
   "cell_type": "code",
   "execution_count": 19,
   "id": "6ee16cac",
   "metadata": {},
   "outputs": [
    {
     "data": {
      "text/html": [
       "<div>\n",
       "<style scoped>\n",
       "    .dataframe tbody tr th:only-of-type {\n",
       "        vertical-align: middle;\n",
       "    }\n",
       "\n",
       "    .dataframe tbody tr th {\n",
       "        vertical-align: top;\n",
       "    }\n",
       "\n",
       "    .dataframe thead th {\n",
       "        text-align: right;\n",
       "    }\n",
       "</style>\n",
       "<table border=\"1\" class=\"dataframe\">\n",
       "  <thead>\n",
       "    <tr style=\"text-align: right;\">\n",
       "      <th></th>\n",
       "      <th>prior</th>\n",
       "      <th>likelihood</th>\n",
       "      <th>unnorm</th>\n",
       "      <th>posterior</th>\n",
       "    </tr>\n",
       "  </thead>\n",
       "  <tbody>\n",
       "    <tr>\n",
       "      <th>Bowl 1</th>\n",
       "      <td>0.5</td>\n",
       "      <td>0.75</td>\n",
       "      <td>0.375</td>\n",
       "      <td>0.6</td>\n",
       "    </tr>\n",
       "    <tr>\n",
       "      <th>Bowl 2</th>\n",
       "      <td>0.5</td>\n",
       "      <td>0.50</td>\n",
       "      <td>0.250</td>\n",
       "      <td>0.4</td>\n",
       "    </tr>\n",
       "  </tbody>\n",
       "</table>\n",
       "</div>"
      ],
      "text/plain": [
       "        prior  likelihood  unnorm  posterior\n",
       "Bowl 1    0.5        0.75   0.375        0.6\n",
       "Bowl 2    0.5        0.50   0.250        0.4"
      ]
     },
     "execution_count": 19,
     "metadata": {},
     "output_type": "execute_result"
    }
   ],
   "source": [
    "table"
   ]
  },
  {
   "cell_type": "markdown",
   "id": "ace3b318",
   "metadata": {},
   "source": [
    "## Dice Problem\n",
    "6 sided, 8-sided, 12 sided. Choose dice, roll 1? posteriors"
   ]
  },
  {
   "cell_type": "code",
   "execution_count": 20,
   "id": "ecc28190",
   "metadata": {},
   "outputs": [],
   "source": [
    "from fractions import Fraction"
   ]
  },
  {
   "cell_type": "code",
   "execution_count": 21,
   "id": "0e13f5e8",
   "metadata": {},
   "outputs": [],
   "source": [
    "table2 = pd.DataFrame(index=[\"6\",\"8\",\"12\"])\n",
    "table2[\"prior\"] = Fraction(1,3)"
   ]
  },
  {
   "cell_type": "code",
   "execution_count": 23,
   "id": "d63b6b41",
   "metadata": {},
   "outputs": [],
   "source": [
    "table2[\"likelihood\"] = Fraction(1,6), Fraction(1,8), Fraction(1,12)"
   ]
  },
  {
   "cell_type": "code",
   "execution_count": 24,
   "id": "d58388e7",
   "metadata": {},
   "outputs": [],
   "source": [
    "table2[\"unnorm\"] = table2[\"likelihood\"] * table2[\"prior\"]"
   ]
  },
  {
   "cell_type": "code",
   "execution_count": 25,
   "id": "0db1d8c7",
   "metadata": {},
   "outputs": [],
   "source": [
    "pdata2 = table2[\"unnorm\"].sum()"
   ]
  },
  {
   "cell_type": "code",
   "execution_count": 26,
   "id": "339b7c26",
   "metadata": {},
   "outputs": [
    {
     "data": {
      "text/html": [
       "<div>\n",
       "<style scoped>\n",
       "    .dataframe tbody tr th:only-of-type {\n",
       "        vertical-align: middle;\n",
       "    }\n",
       "\n",
       "    .dataframe tbody tr th {\n",
       "        vertical-align: top;\n",
       "    }\n",
       "\n",
       "    .dataframe thead th {\n",
       "        text-align: right;\n",
       "    }\n",
       "</style>\n",
       "<table border=\"1\" class=\"dataframe\">\n",
       "  <thead>\n",
       "    <tr style=\"text-align: right;\">\n",
       "      <th></th>\n",
       "      <th>prior</th>\n",
       "      <th>likelihood</th>\n",
       "      <th>unnorm</th>\n",
       "      <th>posterior</th>\n",
       "    </tr>\n",
       "  </thead>\n",
       "  <tbody>\n",
       "    <tr>\n",
       "      <th>6</th>\n",
       "      <td>1/3</td>\n",
       "      <td>1/6</td>\n",
       "      <td>1/18</td>\n",
       "      <td>4/9</td>\n",
       "    </tr>\n",
       "    <tr>\n",
       "      <th>8</th>\n",
       "      <td>1/3</td>\n",
       "      <td>1/8</td>\n",
       "      <td>1/24</td>\n",
       "      <td>1/3</td>\n",
       "    </tr>\n",
       "    <tr>\n",
       "      <th>12</th>\n",
       "      <td>1/3</td>\n",
       "      <td>1/12</td>\n",
       "      <td>1/36</td>\n",
       "      <td>2/9</td>\n",
       "    </tr>\n",
       "  </tbody>\n",
       "</table>\n",
       "</div>"
      ],
      "text/plain": [
       "   prior likelihood unnorm posterior\n",
       "6    1/3        1/6   1/18       4/9\n",
       "8    1/3        1/8   1/24       1/3\n",
       "12   1/3       1/12   1/36       2/9"
      ]
     },
     "execution_count": 26,
     "metadata": {},
     "output_type": "execute_result"
    }
   ],
   "source": [
    "table2[\"posterior\"] = table2[\"unnorm\"] / pdata2\n",
    "table2"
   ]
  },
  {
   "cell_type": "code",
   "execution_count": 37,
   "id": "e0b1898d",
   "metadata": {},
   "outputs": [],
   "source": [
    "def update(table):\n",
    "    \"\"\"Compute the posteriors for a Bayes Table\"\"\"\n",
    "    table[\"unnorm\"] = table[\"prior\"] * table[\"likelihood\"]\n",
    "    table[\"posterior\"] = table[\"unnorm\"] / table [\"unnorm\"].sum()"
   ]
  },
  {
   "cell_type": "markdown",
   "id": "e4cdf664",
   "metadata": {},
   "source": [
    "# Exercises 2\n",
    "## Ex 2-1\n",
    "Suppose you have two coins in a box. One is a normal coin with heads on one side\n",
    "and tails on the other, and one is a trick coin with heads on both sides. You choose a\n",
    "coin at random and see that one of the sides is heads. What is the probability that you\n",
    "chose the trick coin?"
   ]
  },
  {
   "cell_type": "code",
   "execution_count": 39,
   "id": "7b996de5",
   "metadata": {},
   "outputs": [
    {
     "data": {
      "text/html": [
       "<div>\n",
       "<style scoped>\n",
       "    .dataframe tbody tr th:only-of-type {\n",
       "        vertical-align: middle;\n",
       "    }\n",
       "\n",
       "    .dataframe tbody tr th {\n",
       "        vertical-align: top;\n",
       "    }\n",
       "\n",
       "    .dataframe thead th {\n",
       "        text-align: right;\n",
       "    }\n",
       "</style>\n",
       "<table border=\"1\" class=\"dataframe\">\n",
       "  <thead>\n",
       "    <tr style=\"text-align: right;\">\n",
       "      <th></th>\n",
       "      <th>prior</th>\n",
       "      <th>likelihood</th>\n",
       "    </tr>\n",
       "  </thead>\n",
       "  <tbody>\n",
       "    <tr>\n",
       "      <th>normal</th>\n",
       "      <td>1/2</td>\n",
       "      <td>1/2</td>\n",
       "    </tr>\n",
       "    <tr>\n",
       "      <th>trick</th>\n",
       "      <td>1/2</td>\n",
       "      <td>1</td>\n",
       "    </tr>\n",
       "  </tbody>\n",
       "</table>\n",
       "</div>"
      ],
      "text/plain": [
       "       prior likelihood\n",
       "normal   1/2        1/2\n",
       "trick    1/2          1"
      ]
     },
     "execution_count": 39,
     "metadata": {},
     "output_type": "execute_result"
    }
   ],
   "source": [
    "t21 = pd.DataFrame(index = [\"normal\", \"trick\"])\n",
    "t21[\"prior\"] = Fraction(1,2)\n",
    "t21[\"likelihood\"] = Fraction(1,2), Fraction(1,1)\n",
    "update(t21)"
   ]
  },
  {
   "cell_type": "markdown",
   "id": "3eeacd15",
   "metadata": {},
   "source": [
    "## Ex 2-2\n",
    "Suppose you meet someone and learn that they have two children. You ask if either\n",
    "child is a girl and they say yes. What is the probability that both children are girls?"
   ]
  },
  {
   "cell_type": "code",
   "execution_count": 42,
   "id": "f57ad0e8",
   "metadata": {},
   "outputs": [
    {
     "data": {
      "text/html": [
       "<div>\n",
       "<style scoped>\n",
       "    .dataframe tbody tr th:only-of-type {\n",
       "        vertical-align: middle;\n",
       "    }\n",
       "\n",
       "    .dataframe tbody tr th {\n",
       "        vertical-align: top;\n",
       "    }\n",
       "\n",
       "    .dataframe thead th {\n",
       "        text-align: right;\n",
       "    }\n",
       "</style>\n",
       "<table border=\"1\" class=\"dataframe\">\n",
       "  <thead>\n",
       "    <tr style=\"text-align: right;\">\n",
       "      <th></th>\n",
       "      <th>prior</th>\n",
       "      <th>likelihood</th>\n",
       "      <th>unnorm</th>\n",
       "      <th>posterior</th>\n",
       "    </tr>\n",
       "  </thead>\n",
       "  <tbody>\n",
       "    <tr>\n",
       "      <th>BB</th>\n",
       "      <td>1/4</td>\n",
       "      <td>0</td>\n",
       "      <td>0</td>\n",
       "      <td>0</td>\n",
       "    </tr>\n",
       "    <tr>\n",
       "      <th>BG</th>\n",
       "      <td>1/4</td>\n",
       "      <td>1</td>\n",
       "      <td>1/4</td>\n",
       "      <td>1/3</td>\n",
       "    </tr>\n",
       "    <tr>\n",
       "      <th>GB</th>\n",
       "      <td>1/4</td>\n",
       "      <td>1</td>\n",
       "      <td>1/4</td>\n",
       "      <td>1/3</td>\n",
       "    </tr>\n",
       "    <tr>\n",
       "      <th>GG</th>\n",
       "      <td>1/4</td>\n",
       "      <td>1</td>\n",
       "      <td>1/4</td>\n",
       "      <td>1/3</td>\n",
       "    </tr>\n",
       "  </tbody>\n",
       "</table>\n",
       "</div>"
      ],
      "text/plain": [
       "   prior  likelihood unnorm posterior\n",
       "BB   1/4           0      0         0\n",
       "BG   1/4           1    1/4       1/3\n",
       "GB   1/4           1    1/4       1/3\n",
       "GG   1/4           1    1/4       1/3"
      ]
     },
     "execution_count": 42,
     "metadata": {},
     "output_type": "execute_result"
    }
   ],
   "source": [
    "t22 = pd.DataFrame(index=[\"BB\",\"BG\",\"GB\",\"GG\"])\n",
    "t22[\"prior\"] = Fraction(1,4)\n",
    "t22[\"likelihood\"] = 0,1,1,1\n",
    "update(t22)\n",
    "t22"
   ]
  },
  {
   "cell_type": "markdown",
   "id": "1fc2277b",
   "metadata": {},
   "source": [
    "## Ex 2-4"
   ]
  },
  {
   "cell_type": "code",
   "execution_count": 46,
   "id": "94b25d1a",
   "metadata": {},
   "outputs": [
    {
     "data": {
      "text/html": [
       "<div>\n",
       "<style scoped>\n",
       "    .dataframe tbody tr th:only-of-type {\n",
       "        vertical-align: middle;\n",
       "    }\n",
       "\n",
       "    .dataframe tbody tr th {\n",
       "        vertical-align: top;\n",
       "    }\n",
       "\n",
       "    .dataframe thead th {\n",
       "        text-align: right;\n",
       "    }\n",
       "</style>\n",
       "<table border=\"1\" class=\"dataframe\">\n",
       "  <thead>\n",
       "    <tr style=\"text-align: right;\">\n",
       "      <th></th>\n",
       "      <th>prior</th>\n",
       "      <th>likelihood</th>\n",
       "      <th>unnorm</th>\n",
       "      <th>posterior</th>\n",
       "    </tr>\n",
       "  </thead>\n",
       "  <tbody>\n",
       "    <tr>\n",
       "      <th>A</th>\n",
       "      <td>1/2</td>\n",
       "      <td>0.040</td>\n",
       "      <td>0.02</td>\n",
       "      <td>0.740741</td>\n",
       "    </tr>\n",
       "    <tr>\n",
       "      <th>B</th>\n",
       "      <td>1/2</td>\n",
       "      <td>0.014</td>\n",
       "      <td>0.007</td>\n",
       "      <td>0.259259</td>\n",
       "    </tr>\n",
       "  </tbody>\n",
       "</table>\n",
       "</div>"
      ],
      "text/plain": [
       "  prior  likelihood unnorm posterior\n",
       "A   1/2       0.040   0.02  0.740741\n",
       "B   1/2       0.014  0.007  0.259259"
      ]
     },
     "execution_count": 46,
     "metadata": {},
     "output_type": "execute_result"
    }
   ],
   "source": [
    "# Hyp A: yellow from 1994, green from 1996\n",
    "# Hyp B: green from 1994, yellow from 1996\n",
    "t24 = pd.DataFrame(index=[\"A\",\"B\"])\n",
    "t24[\"prior\"] = Fraction(1,2)\n",
    "t24[\"likelihood\"] = 0.2*0.2,0.1*0.14\n",
    "update(t24)\n",
    "t24"
   ]
  },
  {
   "cell_type": "code",
   "execution_count": null,
   "id": "d620f16d",
   "metadata": {},
   "outputs": [],
   "source": []
  }
 ],
 "metadata": {
  "kernelspec": {
   "display_name": "Python 3 (ipykernel)",
   "language": "python",
   "name": "python3"
  },
  "language_info": {
   "codemirror_mode": {
    "name": "ipython",
    "version": 3
   },
   "file_extension": ".py",
   "mimetype": "text/x-python",
   "name": "python",
   "nbconvert_exporter": "python",
   "pygments_lexer": "ipython3",
   "version": "3.9.7"
  }
 },
 "nbformat": 4,
 "nbformat_minor": 5
}
