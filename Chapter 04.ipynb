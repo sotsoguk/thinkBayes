{
 "cells": [
  {
   "cell_type": "markdown",
   "id": "ff15d594",
   "metadata": {},
   "source": [
    "# 04. Estimating Proportions\n",
    "## Euro Problem\n",
    "When spun on edge 250 times, a Belgian one-euro coin came up heads 140 times and tails\n",
    "110. “It looks very suspicious to me,” said Barry Blight, a statistics lecturer at the London\n",
    "School of Economics. “If the coin were unbiased, the chance of getting a result as extreme\n",
    "as that would be less than 7%.”\n",
    "But do these data give evidence that the coin is biased rather than fair?"
   ]
  },
  {
   "cell_type": "code",
   "execution_count": 23,
   "id": "19ce9b2e",
   "metadata": {},
   "outputs": [],
   "source": [
    "from scipy.stats import binom\n",
    "import numpy as np\n",
    "from empiricaldist import Pmf\n",
    "from matplotlib import pyplot as plt\n",
    "# for a single k\n",
    "# binom.pmf(k,n,p)\n",
    "n = 5\n",
    "p = 0.5\n",
    "# for multiple ks\n",
    "ks = np.arange(n+1)\n",
    "ps = binom.pmf(ks,n,p)"
   ]
  },
  {
   "cell_type": "code",
   "execution_count": 5,
   "id": "0d214d19",
   "metadata": {},
   "outputs": [],
   "source": [
    "def make_binomial(n,p):\n",
    "    ks = np.arange(n+1)\n",
    "    ps = binom.pmf(ks,n,p)\n",
    "    return Pmf(ps,ks)"
   ]
  },
  {
   "cell_type": "code",
   "execution_count": 6,
   "id": "40f7b38a",
   "metadata": {},
   "outputs": [],
   "source": [
    "pmf_k = make_binomial(250,1/2)"
   ]
  },
  {
   "cell_type": "code",
   "execution_count": 7,
   "id": "2fc9264c",
   "metadata": {},
   "outputs": [
    {
     "data": {
      "text/plain": [
       "<AxesSubplot:>"
      ]
     },
     "execution_count": 7,
     "metadata": {},
     "output_type": "execute_result"
    },
    {
     "data": {
      "image/png": "[encoded data removed]",
      "text/plain": [
       "<Figure size 432x288 with 1 Axes>"
      ]
     },
     "metadata": {
      "needs_background": "light"
     },
     "output_type": "display_data"
    }
   ],
   "source": [
    "pmf_k.plot()"
   ]
  },
  {
   "cell_type": "code",
   "execution_count": 9,
   "id": "8e8545ae",
   "metadata": {},
   "outputs": [
    {
     "data": {
      "text/plain": [
       "0.06642115124004327"
      ]
     },
     "execution_count": 9,
     "metadata": {},
     "output_type": "execute_result"
    }
   ],
   "source": [
    "pmf_k.prob_le(110) + pmf_k.prob_ge(140)"
   ]
  },
  {
   "cell_type": "markdown",
   "id": "309cc6b4",
   "metadata": {},
   "source": [
    "## Bayesian Estimation\n",
    "- Start with a prior, here we chose *uniform* prior. But for other cases, different priors maybe suitable.\n"
   ]
  },
  {
   "cell_type": "code",
   "execution_count": 11,
   "id": "bc2ee6a7",
   "metadata": {},
   "outputs": [
    {
     "data": {
      "text/plain": [
       "101"
      ]
     },
     "execution_count": 11,
     "metadata": {},
     "output_type": "execute_result"
    }
   ],
   "source": [
    "hypos = np.linspace(0,1,101)\n",
    "prior = Pmf(1,hypos)\n",
    "prior.normalize()"
   ]
  },
  {
   "cell_type": "code",
   "execution_count": 12,
   "id": "84ed3c30",
   "metadata": {},
   "outputs": [],
   "source": [
    "likelihood_heads = hypos\n",
    "likelihood_tails = 1-hypos\n",
    "likelihood = {\n",
    "    'H': likelihood_heads,\n",
    "    'T': likelihood_tails\n",
    "}"
   ]
  },
  {
   "cell_type": "code",
   "execution_count": 13,
   "id": "f92f2371",
   "metadata": {},
   "outputs": [],
   "source": [
    "# create a dataset (the observations)\n",
    "dataset = 'H' * 140 + 'T' * 110"
   ]
  },
  {
   "cell_type": "code",
   "execution_count": 14,
   "id": "f1d7251f",
   "metadata": {},
   "outputs": [],
   "source": [
    "def update_euro(pmf,dataset):\n",
    "    for data in dataset:\n",
    "        pmf *= likelihood[data]\n",
    "    pmf.normalize()"
   ]
  },
  {
   "cell_type": "code",
   "execution_count": 17,
   "id": "3ba0c62e",
   "metadata": {},
   "outputs": [
    {
     "data": {
      "text/plain": [
       "<AxesSubplot:>"
      ]
     },
     "execution_count": 17,
     "metadata": {},
     "output_type": "execute_result"
    },
    {
     "data": {
      "image/png": "[encoded data removed]",
      "text/plain": [
       "<Figure size 432x288 with 1 Axes>"
      ]
     },
     "metadata": {
      "needs_background": "light"
     },
     "output_type": "display_data"
    }
   ],
   "source": [
    "posterior = prior.copy()\n",
    "update_euro(posterior,dataset)\n",
    "posterior.plot()"
   ]
  },
  {
   "cell_type": "code",
   "execution_count": 18,
   "id": "2ef21540",
   "metadata": {},
   "outputs": [
    {
     "data": {
      "text/plain": [
       "0.56"
      ]
     },
     "execution_count": 18,
     "metadata": {},
     "output_type": "execute_result"
    }
   ],
   "source": [
    "posterior.max_prob()"
   ]
  },
  {
   "cell_type": "markdown",
   "id": "c7621029",
   "metadata": {},
   "source": [
    "## Triangle Prior\n",
    "A uniform prior is not the best choice. The prior may deviate from 0.5, but it is highly unlikely that we will see values of 0.1 or 0.9, even for a biased coin. It's better choose a prior with higher values around 0.5.\n",
    "\n",
    "One simple solution is a **Triangle shaped** prior."
   ]
  },
  {
   "cell_type": "code",
   "execution_count": 19,
   "id": "ed68037c",
   "metadata": {},
   "outputs": [
    {
     "data": {
      "text/plain": [
       "2500"
      ]
     },
     "execution_count": 19,
     "metadata": {},
     "output_type": "execute_result"
    }
   ],
   "source": [
    "ramp_up = np.arange(50)\n",
    "ramp_down = np.arange(50,-1,-1)\n",
    "triangle = Pmf(np.append(ramp_up,ramp_down),hypos,name='Triangle')\n",
    "triangle.normalize()"
   ]
  },
  {
   "cell_type": "code",
   "execution_count": 28,
   "id": "f612c5da",
   "metadata": {},
   "outputs": [
    {
     "data": {
      "text/plain": [
       "[<matplotlib.lines.Line2D at 0x25c9e77f8b0>]"
      ]
     },
     "execution_count": 28,
     "metadata": {},
     "output_type": "execute_result"
    },
    {
     "data": {
      "image/png": "[encoded data removed]",
      "text/plain": [
       "<Figure size 432x288 with 1 Axes>"
      ]
     },
     "metadata": {
      "needs_background": "light"
     },
     "output_type": "display_data"
    }
   ],
   "source": [
    "plt.plot(triangle)\n",
    "plt.plot(prior)"
   ]
  },
  {
   "cell_type": "code",
   "execution_count": 29,
   "id": "32873439",
   "metadata": {},
   "outputs": [],
   "source": [
    "# compare both\n",
    "post_tri = triangle.copy()\n",
    "post_uni = prior.copy()\n",
    "update_euro(post_tri,dataset)\n",
    "update_euro(post_uni,dataset)"
   ]
  },
  {
   "cell_type": "code",
   "execution_count": 31,
   "id": "7bc90269",
   "metadata": {},
   "outputs": [
    {
     "data": {
      "text/plain": [
       "[<matplotlib.lines.Line2D at 0x25ca0f5f340>]"
      ]
     },
     "execution_count": 31,
     "metadata": {},
     "output_type": "execute_result"
    },
    {
     "data": {
      "image/png": "[encoded data removed]",
      "text/plain": [
       "<Figure size 432x288 with 1 Axes>"
      ]
     },
     "metadata": {
      "needs_background": "light"
     },
     "output_type": "display_data"
    }
   ],
   "source": [
    "plt.plot(post_tri)\n",
    "plt.plot(post_uni)"
   ]
  },
  {
   "cell_type": "markdown",
   "id": "d0f10ac9",
   "metadata": {},
   "source": [
    "There is no visible difference => **The choice of priors** is not that important.\n",
    "\n",
    "**Swamping the priors**: with enough data, different prios converege to the same posterior"
   ]
  },
  {
   "cell_type": "markdown",
   "id": "dc36f476",
   "metadata": {},
   "source": [
    "## Binomial Likelihood Function\n",
    "Since the coin is a True/False Choice, we can use the binomial pmf to compute the posterior faster"
   ]
  },
  {
   "cell_type": "code",
   "execution_count": 44,
   "id": "1093e4dd",
   "metadata": {},
   "outputs": [],
   "source": [
    "def update_binom(pmf,data):\n",
    "    k,n = data\n",
    "    xs = pmf.qs\n",
    "    likelihood = binom.pmf(k,n,xs)\n",
    "    pmf *= likelihood\n",
    "    pmf.normalize()"
   ]
  },
  {
   "cell_type": "code",
   "execution_count": 46,
   "id": "53ff7734",
   "metadata": {},
   "outputs": [
    {
     "data": {
      "text/plain": [
       "<AxesSubplot:>"
      ]
     },
     "execution_count": 46,
     "metadata": {},
     "output_type": "execute_result"
    },
    {
     "data": {
      "image/png": "[encoded data removed]",
      "text/plain": [
       "<Figure size 432x288 with 1 Axes>"
      ]
     },
     "metadata": {
      "needs_background": "light"
     },
     "output_type": "display_data"
    }
   ],
   "source": [
    "uniform2 = Pmf(1,hypos,name=\"uniform2\")\n",
    "data = 140, 250\n",
    "update_binom(uniform2,data)\n",
    "uniform2.plot()"
   ]
  },
  {
   "cell_type": "code",
   "execution_count": 50,
   "id": "5b63ab2f",
   "metadata": {},
   "outputs": [
    {
     "data": {
      "text/plain": [
       "True"
      ]
     },
     "execution_count": 50,
     "metadata": {},
     "output_type": "execute_result"
    }
   ],
   "source": [
    "np.allclose(post_uni,uniform2)"
   ]
  },
  {
   "cell_type": "markdown",
   "id": "3cd1e7d0",
   "metadata": {},
   "source": [
    "# Exercises\n",
    "## Ex 4-1\n",
    "In Major League Baseball (MLB), most players have a batting average between .200\n",
    "and .330, which means that their probability of getting a hit is between 0.2 and 0.33.\n",
    "Suppose a player appearing in their first game gets 3 hits out of 3 attempts. What is\n",
    "the posterior distribution for their probability of getting a hit?"
   ]
  },
  {
   "cell_type": "code",
   "execution_count": 51,
   "id": "8a855513",
   "metadata": {},
   "outputs": [],
   "source": [
    "low_uni = np.array([1]*200)"
   ]
  },
  {
   "cell_type": "code",
   "execution_count": 53,
   "id": "2f61e0ff",
   "metadata": {},
   "outputs": [],
   "source": [
    "ramp_up = np.arange(1,66)"
   ]
  },
  {
   "cell_type": "code",
   "execution_count": 56,
   "id": "3c6dbd1b",
   "metadata": {},
   "outputs": [],
   "source": [
    "ramp_down=np.arange(65,0,-1)"
   ]
  },
  {
   "cell_type": "code",
   "execution_count": 58,
   "id": "722fb5d7",
   "metadata": {},
   "outputs": [],
   "source": [
    "high_uni = np.array([1]*670)"
   ]
  },
  {
   "cell_type": "code",
   "execution_count": 59,
   "id": "a2d958ea",
   "metadata": {},
   "outputs": [],
   "source": [
    "prior = np.append(np.append(np.append(low_uni,ramp_up),ramp_down),high_uni)"
   ]
  },
  {
   "cell_type": "code",
   "execution_count": 92,
   "id": "6d1d23a7",
   "metadata": {},
   "outputs": [
    {
     "data": {
      "text/plain": [
       "1000"
      ]
     },
     "execution_count": 92,
     "metadata": {},
     "output_type": "execute_result"
    }
   ],
   "source": [
    "#prior41 = Pmf(prior,np.linspace(0,1,1001))\n",
    "prior41 = Pmf(1,np.linspace(0.1,0.4,1000))\n",
    "prior41.normalize()"
   ]
  },
  {
   "cell_type": "code",
   "execution_count": 93,
   "id": "3e15645f",
   "metadata": {},
   "outputs": [
    {
     "data": {
      "text/plain": [
       "<AxesSubplot:>"
      ]
     },
     "execution_count": 93,
     "metadata": {},
     "output_type": "execute_result"
    },
    {
     "data": {
      "image/png": "[encoded data removed]",
      "text/plain": [
       "<Figure size 432x288 with 1 Axes>"
      ]
     },
     "metadata": {
      "needs_background": "light"
     },
     "output_type": "display_data"
    }
   ],
   "source": [
    "prior41.plot()"
   ]
  },
  {
   "cell_type": "code",
   "execution_count": 94,
   "id": "b813c8d5",
   "metadata": {},
   "outputs": [],
   "source": [
    "def update_mlb(pmf,data):\n",
    "    k,n = data\n",
    "    xs = pmf.qs\n",
    "    likelihood = binom.pmf(k,n,xs)\n",
    "    pmf *= likelihood\n",
    "    pmf.normalize()"
   ]
  },
  {
   "cell_type": "code",
   "execution_count": 95,
   "id": "019af5d0",
   "metadata": {},
   "outputs": [],
   "source": [
    "p41 = prior41.copy()"
   ]
  },
  {
   "cell_type": "code",
   "execution_count": 96,
   "id": "2284595d",
   "metadata": {},
   "outputs": [],
   "source": [
    "update_mlb(p41,(25,100))"
   ]
  },
  {
   "cell_type": "code",
   "execution_count": 97,
   "id": "45adf69e",
   "metadata": {},
   "outputs": [
    {
     "data": {
      "text/plain": [
       "<AxesSubplot:>"
      ]
     },
     "execution_count": 97,
     "metadata": {},
     "output_type": "execute_result"
    },
    {
     "data": {
      "image/png": "[encoded data removed]",
      "text/plain": [
       "<Figure size 432x288 with 1 Axes>"
      ]
     },
     "metadata": {
      "needs_background": "light"
     },
     "output_type": "display_data"
    }
   ],
   "source": [
    "p41.plot()"
   ]
  },
  {
   "cell_type": "code",
   "execution_count": 73,
   "id": "2b42e9aa",
   "metadata": {},
   "outputs": [
    {
     "data": {
      "text/plain": [
       "0.253"
      ]
     },
     "execution_count": 73,
     "metadata": {},
     "output_type": "execute_result"
    }
   ],
   "source": [
    "p41.max_prob()"
   ]
  },
  {
   "cell_type": "code",
   "execution_count": 74,
   "id": "3e83cde5",
   "metadata": {},
   "outputs": [],
   "source": [
    "p41a = p41.copy()"
   ]
  },
  {
   "cell_type": "code",
   "execution_count": 75,
   "id": "56d3bc1f",
   "metadata": {},
   "outputs": [],
   "source": [
    "update_mlb(p41a,(3,3))"
   ]
  },
  {
   "cell_type": "code",
   "execution_count": 78,
   "id": "f96fa8b9",
   "metadata": {},
   "outputs": [
    {
     "data": {
      "text/plain": [
       "<AxesSubplot:>"
      ]
     },
     "execution_count": 78,
     "metadata": {},
     "output_type": "execute_result"
    },
    {
     "data": {
      "image/png": "[encoded data removed]",
      "text/plain": [
       "<Figure size 432x288 with 1 Axes>"
      ]
     },
     "metadata": {
      "needs_background": "light"
     },
     "output_type": "display_data"
    }
   ],
   "source": [
    "p41a.plot()\n",
    "p41.plot()"
   ]
  },
  {
   "cell_type": "code",
   "execution_count": 79,
   "id": "428e29b3",
   "metadata": {},
   "outputs": [
    {
     "data": {
      "text/plain": [
       "(0.256, 0.253)"
      ]
     },
     "execution_count": 79,
     "metadata": {},
     "output_type": "execute_result"
    }
   ],
   "source": [
    "(p41a.max_prob(),p41.max_prob())"
   ]
  },
  {
   "cell_type": "markdown",
   "id": "219356d8",
   "metadata": {},
   "source": [
    "## Ex 4-3\n",
    "Suppose you want to test whether a coin is fair, but you don't want to spin it hundreds of times. So you make a machine that spins the coin automatically and uses computer vision to determine the outcome.\n",
    "\n",
    "However, you discover that the machine is not always accurate. Specifically, suppose the probability is y=0.2 that an actual heads is reported as tails, or actual tails reported as heads.\n",
    "\n",
    "If we spin a coin 250 times and the machine reports 140 heads, what is the posterior distribution of x? What happens as you vary the value of y?'"
   ]
  },
  {
   "cell_type": "code",
   "execution_count": 98,
   "id": "287638b6",
   "metadata": {},
   "outputs": [],
   "source": [
    "def update_43(pmf,dataset,y):\n",
    "    likelihood = {\n",
    "        'H': (1-y)*hypos + y*(1-hypos),\n",
    "        'T': y*hypos + (1-y) *(1-hypos)\n",
    "    }\n",
    "    for data in dataset:\n",
    "        pmf *= likelihood[data]\n",
    "    pmf.normalize()"
   ]
  },
  {
   "cell_type": "code",
   "execution_count": 114,
   "id": "85f8b806",
   "metadata": {},
   "outputs": [],
   "source": [
    "hypos = np.linspace(0,1,101)\n",
    "prior = Pmf(1,hypos)\n",
    "dataset = 'H' * 140 + 'T' * 110\n",
    "post00 = prior.copy()\n",
    "post02 = prior.copy()\n",
    "post05 = prior.copy()\n",
    "update_43(post00,dataset,0.0)\n",
    "update_43(post02,dataset,0.2)\n",
    "update_43(post05,dataset,0.5)"
   ]
  },
  {
   "cell_type": "code",
   "execution_count": 115,
   "id": "3072ab40",
   "metadata": {},
   "outputs": [
    {
     "data": {
      "text/plain": [
       "<AxesSubplot:>"
      ]
     },
     "execution_count": 115,
     "metadata": {},
     "output_type": "execute_result"
    },
    {
     "data": {
      "image/png": "[encoded data removed]",
      "text/plain": [
       "<Figure size 432x288 with 1 Axes>"
      ]
     },
     "metadata": {
      "needs_background": "light"
     },
     "output_type": "display_data"
    }
   ],
   "source": [
    "# post00.plot()\n",
    "# post02.plot()\n",
    "post05.plot()"
   ]
  },
  {
   "cell_type": "code",
   "execution_count": null,
   "id": "9110a7ae",
   "metadata": {},
   "outputs": [],
   "source": []
  }
 ],
 "metadata": {
  "kernelspec": {
   "display_name": "Python 3 (ipykernel)",
   "language": "python",
   "name": "python3"
  },
  "language_info": {
   "codemirror_mode": {
    "name": "ipython",
    "version": 3
   },
   "file_extension": ".py",
   "mimetype": "text/x-python",
   "name": "python",
   "nbconvert_exporter": "python",
   "pygments_lexer": "ipython3",
   "version": "3.9.7"
  }
 },
 "nbformat": 4,
 "nbformat_minor": 5
}
