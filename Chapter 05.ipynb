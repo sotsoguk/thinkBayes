{
 "cells": [
  {
   "cell_type": "markdown",
   "id": "591e46e7",
   "metadata": {},
   "source": [
    "# 05. Estimating Counts\n",
    "## The Train Problem\n",
    "\n",
    "    A railroad numbers its locomotives in order 1..N. One day you see a locomotive with\n",
    "    the number 60. Estimate how many locomotives the railroad has.\n",
    "    \n",
    "Two questions for Bayesian reasoning\n",
    "- What did we know about N before we saw the data? **Prior**\n",
    "- For any given value of N, what is the likelihood of seeing this data (i.e. 60)? **Likelihood**\n",
    "\n",
    "#### Prior\n",
    "No further info, so choose uniform between 1..1000."
   ]
  },
  {
   "cell_type": "code",
   "execution_count": 31,
   "id": "bd3eb52b",
   "metadata": {},
   "outputs": [],
   "source": [
    "import numpy as np\n",
    "from empiricaldist import Pmf\n",
    "from matplotlib import pyplot as plt"
   ]
  },
  {
   "cell_type": "code",
   "execution_count": 7,
   "id": "c2fda093",
   "metadata": {},
   "outputs": [
    {
     "data": {
      "text/plain": [
       "1000"
      ]
     },
     "execution_count": 7,
     "metadata": {},
     "output_type": "execute_result"
    }
   ],
   "source": [
    "hypos = np.arange(1,1001)\n",
    "prior = Pmf(1,hypos)\n",
    "prior.normalize()"
   ]
  },
  {
   "cell_type": "code",
   "execution_count": 6,
   "id": "cdab030f",
   "metadata": {},
   "outputs": [],
   "source": [
    "def update_train(pmf,data):\n",
    "    hypos = pmf.qs\n",
    "    likelihood = 1/ hypos\n",
    "    impossible = (data > hypos)\n",
    "    likelihood[impossible] = 0\n",
    "\n",
    "    pmf *= likelihood\n",
    "    pmf.normalize()\n",
    "    "
   ]
  },
  {
   "cell_type": "code",
   "execution_count": 8,
   "id": "f4c3d73a",
   "metadata": {},
   "outputs": [],
   "source": [
    "# test\n",
    "data = 60\n",
    "posterior = prior.copy()\n",
    "update_train(posterior, data)"
   ]
  },
  {
   "cell_type": "code",
   "execution_count": 9,
   "id": "9d75b636",
   "metadata": {},
   "outputs": [
    {
     "data": {
      "text/plain": [
       "<AxesSubplot:>"
      ]
     },
     "execution_count": 9,
     "metadata": {},
     "output_type": "execute_result"
    },
    {
     "data": {
      "image/png": "[encoded data removed]",
      "text/plain": [
       "<Figure size 432x288 with 1 Axes>"
      ]
     },
     "metadata": {
      "needs_background": "light"
     },
     "output_type": "display_data"
    }
   ],
   "source": [
    "prior.plot()\n",
    "posterior.plot()"
   ]
  },
  {
   "cell_type": "code",
   "execution_count": 12,
   "id": "a6a0ee47",
   "metadata": {},
   "outputs": [
    {
     "data": {
      "text/plain": [
       "60"
      ]
     },
     "execution_count": 12,
     "metadata": {},
     "output_type": "execute_result"
    }
   ],
   "source": [
    "posterior.max_prob()"
   ]
  },
  {
   "cell_type": "markdown",
   "id": "d69c0f20",
   "metadata": {},
   "source": [
    "This does not look like a good guess! Alternatively compute the mean of the posterior. The mean minimizes the mean squared error in the long run."
   ]
  },
  {
   "cell_type": "code",
   "execution_count": 14,
   "id": "9ffb75fb",
   "metadata": {},
   "outputs": [
    {
     "data": {
      "text/plain": [
       "333.4198932637079"
      ]
     },
     "execution_count": 14,
     "metadata": {},
     "output_type": "execute_result"
    }
   ],
   "source": [
    "np.sum(posterior.qs * posterior.ps)\n",
    "# or\n",
    "posterior.mean()"
   ]
  },
  {
   "cell_type": "markdown",
   "id": "02fad2fb",
   "metadata": {},
   "source": [
    "## Sensitivity to Prior\n"
   ]
  },
  {
   "cell_type": "code",
   "execution_count": 36,
   "id": "3f2745ca",
   "metadata": {},
   "outputs": [],
   "source": [
    "def compute_postmean(n, data):\n",
    "    prior = Pmf(1,np.arange(1,n+1))\n",
    "    for d in data:\n",
    "        update_train(prior,d)\n",
    "    return prior.mean()"
   ]
  },
  {
   "cell_type": "code",
   "execution_count": 38,
   "id": "5a946666",
   "metadata": {},
   "outputs": [
    {
     "data": {
      "text/plain": [
       "207.0792279834105"
      ]
     },
     "execution_count": 38,
     "metadata": {},
     "output_type": "execute_result"
    }
   ],
   "source": [
    "compute_postmean(500,[60])"
   ]
  },
  {
   "cell_type": "code",
   "execution_count": 40,
   "id": "71e5c4ed",
   "metadata": {},
   "outputs": [],
   "source": [
    "ns = np.arange(100,3001,100)\n",
    "means = [compute_postmean(nn,[60]) for nn in ns]"
   ]
  },
  {
   "cell_type": "code",
   "execution_count": 41,
   "id": "9ecb74e5",
   "metadata": {},
   "outputs": [
    {
     "data": {
      "text/plain": [
       "Text(0, 0.5, 'mean')"
      ]
     },
     "execution_count": 41,
     "metadata": {},
     "output_type": "execute_result"
    },
    {
     "data": {
      "image/png": "[encoded data removed]",
      "text/plain": [
       "<Figure size 432x288 with 1 Axes>"
      ]
     },
     "metadata": {
      "needs_background": "light"
     },
     "output_type": "display_data"
    }
   ],
   "source": [
    "plt.plot(ns,means)\n",
    "plt.xlabel('max n')\n",
    "plt.ylabel('mean')"
   ]
  },
  {
   "cell_type": "markdown",
   "id": "5d312546",
   "metadata": {},
   "source": [
    "As we can see, the mean of the posterior is directly dependend on the **prior**!. We can try two ways to proceed\n",
    "\n",
    "### 1. Get more data\n",
    "Maybe we can observe more trains, e.g. 60,30,90"
   ]
  },
  {
   "cell_type": "code",
   "execution_count": 43,
   "id": "3a623535",
   "metadata": {},
   "outputs": [
    {
     "data": {
      "text/plain": [
       "[<matplotlib.lines.Line2D at 0x1f4566205e0>]"
      ]
     },
     "execution_count": 43,
     "metadata": {},
     "output_type": "execute_result"
    },
    {
     "data": {
      "image/png": "[encoded data removed]",
      "text/plain": [
       "<Figure size 432x288 with 1 Axes>"
      ]
     },
     "metadata": {
      "needs_background": "light"
     },
     "output_type": "display_data"
    }
   ],
   "source": [
    "means_3t = [compute_postmean(nn,[60,30,90]) for nn in ns]\n",
    "plt.plot(ns,means_3t)"
   ]
  },
  {
   "cell_type": "code",
   "execution_count": null,
   "id": "43a806f8",
   "metadata": {},
   "outputs": [],
   "source": []
  }
 ],
 "metadata": {
  "kernelspec": {
   "display_name": "Python 3 (ipykernel)",
   "language": "python",
   "name": "python3"
  },
  "language_info": {
   "codemirror_mode": {
    "name": "ipython",
    "version": 3
   },
   "file_extension": ".py",
   "mimetype": "text/x-python",
   "name": "python",
   "nbconvert_exporter": "python",
   "pygments_lexer": "ipython3",
   "version": "3.9.7"
  }
 },
 "nbformat": 4,
 "nbformat_minor": 5
}
